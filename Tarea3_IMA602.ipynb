{
 "cells": [
  {
   "cell_type": "markdown",
   "id": "64e1d136",
   "metadata": {},
   "source": [
    "\n",
    "<center>\n",
    "<img src=\"https://upload.wikimedia.org/wikipedia/commons/2/2a/Logo_Nuevo_Ufro.jpg\" alt=\"Logo de la Universidad de La Frontera\" style=\"float: right; width: 100px;\">\n",
    "</center>"
   ]
  },
  {
   "cell_type": "markdown",
   "id": "628d6607",
   "metadata": {},
   "source": [
    "<center>\n",
    "    <h1 style=\"font-size: 24px\">Resolución Tarea 3 IMA602: Herramientas Básicas para el Análisis de Datos</h1>  \n",
    "</center>  \n",
    "<br>\n",
    "<center>\n",
    "<strong>Nombre:</strong> Natalia Moreira<br>\n",
    "<strong>Profesora:</strong> Dra. Darlin Soto<br>\n",
    "<strong>Fecha:</strong> 30 de Mayo de 2023\n",
    "</span>\n",
    "\n",
    "</center>\n"
   ]
  },
  {
   "cell_type": "markdown",
   "id": "69fb45e1",
   "metadata": {},
   "source": [
    "### Problema 1: Optimización de ruta de reparto para MercadoLibre"
   ]
  },
  {
   "cell_type": "code",
   "execution_count": 1,
   "id": "447c7f64",
   "metadata": {},
   "outputs": [],
   "source": [
    "import math"
   ]
  },
  {
   "cell_type": "code",
   "execution_count": 23,
   "id": "71832440",
   "metadata": {},
   "outputs": [],
   "source": [
    "#Ruta1 = [A, B, C]  (la ruta con la menor distancia que pasa por todos los puntos)\n",
    "#Ruta2 = [B, A, C] y Ruta3 = [B, C, A] \n",
    "\n",
    "def calcular_distancia(punto1, punto2):\n",
    "    x1, y1 = punto1\n",
    "    x2, y2 = punto2\n",
    "    distancia = math.sqrt((x2 - x1)**2 + (y2 - y1)**2)\n",
    "    return distancia\n",
    "\n",
    "\n",
    "\n",
    "def calcular_distancia_total(ruta):\n",
    "    distancia_total_requerida = 0\n",
    "    for i in range(len(ruta) - 1):\n",
    "        punto_actual = ruta[i]\n",
    "        punto_siguiente = ruta[i+1]\n",
    "        distancia_total_requerida += calcular_distancia(punto_actual, punto_siguiente)\n",
    "    return distancia_total_requerida\n",
    "\n",
    "def optimizacion_ruta(rutas):\n",
    "    distancia_minima = float('inf')\n",
    "    ruta_optima = None\n",
    "    for ruta in rutas:\n",
    "        distancia_actual = calcular_distancia_total(ruta)\n",
    "        if distancia_actual < distancia_minima:\n",
    "            distancia_minima = distancia_actual\n",
    "            ruta_optima = ruta\n",
    "    return ruta_optima\n"
   ]
  },
  {
   "cell_type": "code",
   "execution_count": 19,
   "id": "0b0f3150",
   "metadata": {},
   "outputs": [
    {
     "name": "stdout",
     "output_type": "stream",
     "text": [
      "Distancia: 3.1622776601683795\n"
     ]
    }
   ],
   "source": [
    "punto1 = (0, 0)\n",
    "punto2 = (1, 3)\n",
    "distancia = calcular_distancia(punto1, punto2)\n",
    "print(\"Distancia:\", distancia)"
   ]
  },
  {
   "cell_type": "code",
   "execution_count": 24,
   "id": "ad34eb95",
   "metadata": {},
   "outputs": [
    {
     "name": "stdout",
     "output_type": "stream",
     "text": [
      "Distancia total: 8.81913190966076\n"
     ]
    }
   ],
   "source": [
    "ruta= [(0, 0),(1, 3),(3,5),(5,3)]\n",
    "distancia_total = calcular_distancia_total(ruta)\n",
    "print(\"Distancia total:\", distancia_total)"
   ]
  },
  {
   "cell_type": "code",
   "execution_count": 25,
   "id": "6497de59",
   "metadata": {},
   "outputs": [
    {
     "name": "stdout",
     "output_type": "stream",
     "text": [
      "Distancia total: 12.782484645209152\n"
     ]
    }
   ],
   "source": [
    "ruta= [(0, 0),(3,5),(1, 3),(5,2)]\n",
    "distancia_total = calcular_distancia_total(ruta)\n",
    "print(\"Distancia total:\", distancia_total)"
   ]
  },
  {
   "cell_type": "code",
   "execution_count": 26,
   "id": "0ba5bc53",
   "metadata": {},
   "outputs": [
    {
     "name": "stdout",
     "output_type": "stream",
     "text": [
      "Distancia total: 13.559608795926952\n"
     ]
    }
   ],
   "source": [
    "ruta= [(0, 0),(3,5),(5,2),(1, 3)]\n",
    "distancia_total = calcular_distancia_total(ruta)\n",
    "print(\"Distancia total:\", distancia_total)"
   ]
  },
  {
   "cell_type": "code",
   "execution_count": 28,
   "id": "8570378e",
   "metadata": {},
   "outputs": [
    {
     "name": "stdout",
     "output_type": "stream",
     "text": [
      "Ruta Optimizada: [(0, 0), (1, 3), (3, 5), (5, 2)]\n"
     ]
    }
   ],
   "source": [
    "rutas = [[(0, 0),(1, 3),(3, 5),(5, 2)],\n",
    "        [(0, 0),(3, 5),(1, 3),(5, 2)],\n",
    "        [(0, 0),(3,5),(5,2),(1, 3)]]\n",
    "ruta_optimizada = optimizacion_ruta(rutas)\n",
    "print(\"Ruta Optimizada:\", ruta_optimizada)"
   ]
  },
  {
   "cell_type": "markdown",
   "id": "713b442c",
   "metadata": {},
   "source": [
    "### Problema 2: Inventario de libros para una biblioteca"
   ]
  },
  {
   "cell_type": "code",
   "execution_count": 41,
   "id": "00381881",
   "metadata": {},
   "outputs": [],
   "source": [
    "class Libro:\n",
    "    def __init__(self, titulo, autor):\n",
    "        self.titulo = titulo\n",
    "        self.autor = autor\n",
    "        self.disponibilidad = \"Si\"\n",
    "\n",
    "    def obtener_titulo(self):\n",
    "        return self.titulo\n",
    "\n",
    "    def obtener_autor(self):\n",
    "        return self.autor\n",
    "\n",
    "    def esta_disponible(self):\n",
    "        return self.disponibilidad \n",
    "\n",
    "    def libro_prestado(self):\n",
    "        if self.disponibilidad == \"Si\":\n",
    "            self.disponibilidad = \"No\"\n",
    "            print(\"El libro '{}' ha sido prestado.\".format(self.titulo))\n",
    "        else:\n",
    "            print(\"El libro '{}' no está disponible.\".format(self.titulo))\n",
    "\n",
    "    def devolver_libro(self):\n",
    "        if self.disponibilidad == \"No\":\n",
    "            self.disponibilidad = \"Si\"\n",
    "            print(\"El libro '{}' ha sido devuelto.\".format(self.titulo))\n",
    "        else:\n",
    "            print(\"Error, el libro '{}' de autor {} ya estaba disponiible.\".format(self.titulo,self.autor))"
   ]
  },
  {
   "cell_type": "code",
   "execution_count": 42,
   "id": "41bc39df",
   "metadata": {},
   "outputs": [
    {
     "name": "stdout",
     "output_type": "stream",
     "text": [
      "Libro 1: Veinte poemas de amor y una canción desesperada de autor Pablo Neruda\n",
      "Disponibilidad: Si\n",
      "Libro 2: Don Quijote de la Mancha de autor Miguel de Cervantes\n",
      "Disponibilidad: Si\n"
     ]
    }
   ],
   "source": [
    "#Creación objetos desde la clase libro\n",
    "libro1 = Libro(\"Veinte poemas de amor y una canción desesperada\",\"Pablo Neruda\")\n",
    "libro2 = Libro(\"Don Quijote de la Mancha\", \"Miguel de Cervantes\")\n",
    "\n",
    "#Información de los objetos libro 1 y 2\n",
    "print(\"Libro 1: {} de autor {}\".format(libro1.obtener_titulo(),libro1.obtener_autor()))\n",
    "print(\"Disponibilidad: {}\".format(libro1.esta_disponible()))\n",
    "\n",
    "print(\"Libro 2: {} de autor {}\".format(libro2.obtener_titulo(),libro2.obtener_autor()))\n",
    "print(\"Disponibilidad: {}\".format(libro2.esta_disponible()))\n"
   ]
  },
  {
   "cell_type": "code",
   "execution_count": 43,
   "id": "3888ba1e",
   "metadata": {},
   "outputs": [
    {
     "name": "stdout",
     "output_type": "stream",
     "text": [
      "El libro 'Veinte poemas de amor y una canción desesperada' ha sido prestado.\n",
      "Libro 1:Veinte poemas de amor y una canción desesperada de autor Pablo Neruda\n",
      "Disponibilidad: No\n"
     ]
    }
   ],
   "source": [
    "#Pedir un libro prestado\n",
    "libro1.libro_prestado()\n",
    "\n",
    "#Obtener información actualizada del libro\n",
    "print(\"Libro 1:{} de autor {}\".format(libro1.obtener_titulo(),libro1.obtener_autor()))\n",
    "print(\"Disponibilidad: {}\".format(libro1.esta_disponible()))"
   ]
  },
  {
   "cell_type": "code",
   "execution_count": 44,
   "id": "61ec98f3",
   "metadata": {},
   "outputs": [
    {
     "name": "stdout",
     "output_type": "stream",
     "text": [
      "El libro 'Veinte poemas de amor y una canción desesperada' no está disponible.\n",
      "Libro 1: Veinte poemas de amor y una canción desesperada by Pablo Neruda\n",
      "Disponibilidad: No\n"
     ]
    }
   ],
   "source": [
    "#Volver a pedir el mismo libro prestado\n",
    "libro1.libro_prestado()\n",
    "\n",
    "#Obtener información actualizada del libro\n",
    "print(\"Libro 1: {} by {}\".format(libro1.obtener_titulo(),libro1.obtener_autor()))\n",
    "print(\"Disponibilidad: {}\".format(libro1.esta_disponible()))"
   ]
  },
  {
   "cell_type": "code",
   "execution_count": 45,
   "id": "3efe1645",
   "metadata": {},
   "outputs": [
    {
     "name": "stdout",
     "output_type": "stream",
     "text": [
      "El libro 'Veinte poemas de amor y una canción desesperada' ha sido devuelto.\n",
      "Libro 1: Veinte poemas de amor y una canción desesperada by Pablo Neruda\n",
      "Disponibilidad: Si\n"
     ]
    }
   ],
   "source": [
    "#Devolver el libro\n",
    "libro1.devolver_libro()\n",
    "\n",
    "#Obtener información actualizada del libro\n",
    "print(\"Libro 1: {} by {}\".format(libro1.obtener_titulo(),libro1.obtener_autor()))\n",
    "print(\"Disponibilidad: {}\".format(libro1.esta_disponible()))"
   ]
  },
  {
   "cell_type": "code",
   "execution_count": 46,
   "id": "37174ae3",
   "metadata": {},
   "outputs": [
    {
     "name": "stdout",
     "output_type": "stream",
     "text": [
      "Error, el libro 'Don Quijote de la Mancha' de autor Miguel de Cervantes ya estaba disponiible.\n",
      "Libro 2: Don Quijote de la Mancha by Miguel de Cervantes\n",
      "Disponibilidad: Si\n"
     ]
    }
   ],
   "source": [
    "#Devolver el libro\n",
    "libro2.devolver_libro()\n",
    "\n",
    "#Obtener información actualizada del libro\n",
    "print(\"Libro 2: {} by {}\".format(libro2.obtener_titulo(),libro2.obtener_autor()))\n",
    "print(\"Disponibilidad: {}\".format(libro2.esta_disponible()))"
   ]
  }
 ],
 "metadata": {
  "kernelspec": {
   "display_name": "Python 3 (ipykernel)",
   "language": "python",
   "name": "python3"
  },
  "language_info": {
   "codemirror_mode": {
    "name": "ipython",
    "version": 3
   },
   "file_extension": ".py",
   "mimetype": "text/x-python",
   "name": "python",
   "nbconvert_exporter": "python",
   "pygments_lexer": "ipython3",
   "version": "3.10.9"
  }
 },
 "nbformat": 4,
 "nbformat_minor": 5
}
